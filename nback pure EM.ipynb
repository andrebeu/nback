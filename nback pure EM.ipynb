{
 "cells": [
  {
   "cell_type": "code",
   "execution_count": 2,
   "metadata": {},
   "outputs": [
    {
     "name": "stderr",
     "output_type": "stream",
     "text": [
      "/Users/abeukers/anaconda/lib/python3.6/site-packages/h5py/__init__.py:34: FutureWarning: Conversion of the second argument of issubdtype from `float` to `np.floating` is deprecated. In future, it will be treated as `np.float64 == np.dtype(float).type`.\n",
      "  from ._conv import register_converters as _register_converters\n"
     ]
    }
   ],
   "source": [
    "import numpy as np\n",
    "import tensorflow as tf\n",
    "\n",
    "from pureEM import *\n",
    "\n",
    "import matplotlib.pyplot as plt\n",
    "%matplotlib inline\n",
    "\n",
    "%load_ext autoreload\n",
    "%reload_ext autoreload\n",
    "%autoreload 2\n"
   ]
  },
  {
   "cell_type": "markdown",
   "metadata": {},
   "source": [
    "- next: not sure why but nback discounting with 0.9 discount rate that performs best. if I set discount rate to 0, which should just return the nback context, the network doesn't learn. I thought that would have been a strictly easier task \n",
    "    - setting the discount factor to 0 means the network is always retrieving the nback context; which bears no information about what stimulus occured in that context. \n",
    "- potential next steps:\n",
    "    - have retrieval weights be produced by the network instead of automatically computed - but in some way it already is produced by the network, insofar as the network is finding embeddings for context and stim that allow it to perform the computations. \n",
    "    - sweep param space and look into the memory represnetations that the network develops (e.g. how does retrieval vector change as a function of environment params?)"
   ]
  },
  {
   "cell_type": "code",
   "execution_count": null,
   "metadata": {},
   "outputs": [
    {
     "name": "stdout",
     "output_type": "stream",
     "text": [
      "Tensor(\"strided_slice_2:0\", shape=(1, 25), dtype=float32)\n",
      "Tensor(\"strided_slice:0\", shape=(2, 25), dtype=float32)\n",
      "[0.9, 1.0]\n",
      "Tensor(\"strided_slice_4:0\", shape=(1, 25), dtype=float32)\n",
      "Tensor(\"M_keys_write:0\", shape=(3, 25), dtype=float32)\n",
      "[0.81, 0.9, 1.0]\n",
      "Tensor(\"strided_slice_6:0\", shape=(1, 25), dtype=float32)\n",
      "Tensor(\"M_keys_write_1:0\", shape=(4, 25), dtype=float32)\n",
      "[0.7290000000000001, 0.81, 0.9, 1.0]\n"
     ]
    }
   ],
   "source": [
    "net = PureEM()\n",
    "task = NBackTask()\n",
    "\n",
    "itr = 5000\n",
    "L = -1*np.ones(itr)\n",
    "A = -1*np.ones(itr)\n",
    "for ep in range(itr): \n",
    "  T,X,Y = task.genseq()\n",
    "  feed_dict = {net.trial_ph:T,net.stim_ph:X,net.y_ph:Y}\n",
    "  ops = [\n",
    "    net.minimizer,\n",
    "    net.train_loss,\n",
    "    net.response,\n",
    "    net.retrieved_memory\n",
    "        ]\n",
    "  outs = net.sess.run(ops,feed_dict)\n",
    "  _,loss,yhat,m_T = outs\n",
    "\n",
    "  L[ep] = loss.mean()\n",
    "  A[ep] = np.mean(yhat==Y[:,2:])\n",
    "  \n",
    "ax = plt.gca()\n",
    "ax.plot(L)\n",
    "ax.twinx().scatter(range(len(A)),A,c='r')"
   ]
  },
  {
   "cell_type": "markdown",
   "metadata": {},
   "source": [
    "### debugging"
   ]
  },
  {
   "cell_type": "code",
   "execution_count": 679,
   "metadata": {},
   "outputs": [
    {
     "name": "stdout",
     "output_type": "stream",
     "text": [
      "Tensor(\"strided_slice_2:0\", shape=(1, 2), dtype=float32)\n",
      "Tensor(\"strided_slice:0\", shape=(2, 2), dtype=float32)\n",
      "[1.0, 0.9]\n",
      "Tensor(\"strided_slice_4:0\", shape=(1, 2), dtype=float32)\n",
      "Tensor(\"M_keys_write:0\", shape=(3, 2), dtype=float32)\n",
      "[0.9, 1.0, 0.9]\n",
      "Tensor(\"strided_slice_6:0\", shape=(1, 2), dtype=float32)\n",
      "Tensor(\"M_keys_write_1:0\", shape=(4, 2), dtype=float32)\n",
      "[0.81, 0.9, 1.0, 0.9]\n"
     ]
    }
   ],
   "source": [
    "ntrials=5\n",
    "net = PureEM(ntrials=ntrials,dim=2)\n",
    "# task = NBackTask()\n",
    "# net.reinitialize()\n",
    "ntrials=5\n",
    "for ep in range(1): \n",
    "  T,X,Y = task.genseq(ntrials=ntrials)\n",
    "  feed_dict = {net.trial_ph:T,net.stim_ph:X,net.y_ph:Y}\n",
    "  ops = [\n",
    "    net.M_keys,\n",
    "    net.query_key_sim,\n",
    "    net.stim,\n",
    "    net.retrieved_memory,\n",
    "    net.M_values,\n",
    "    net.context,\n",
    "    net.response_in\n",
    "  ]\n",
    "  outs = net.sess.run(ops,feed_dict)"
   ]
  },
  {
   "cell_type": "code",
   "execution_count": 680,
   "metadata": {},
   "outputs": [
    {
     "name": "stdout",
     "output_type": "stream",
     "text": [
      "1\n",
      "2\n",
      "0\n",
      "2\n",
      "2\n"
     ]
    }
   ],
   "source": [
    "# stim seq\n",
    "for x in X.squeeze():\n",
    "  print(x)"
   ]
  },
  {
   "cell_type": "code",
   "execution_count": 681,
   "metadata": {},
   "outputs": [
    {
     "name": "stdout",
     "output_type": "stream",
     "text": [
      "cos\n",
      "[0.004 0.4   0.196 0.4  ]\n",
      "M_K\n",
      "[[ 0.11894773  0.9486887 ]\n",
      " [-0.27373168 -0.96113366]\n",
      " [-0.6422192   0.66132146]\n",
      " [-0.27373168 -0.96113366]\n",
      " [-0.27373168 -0.96113366]]\n",
      "stim_T\n",
      "[[-0.27373168 -0.96113366]]\n",
      "M_V\n",
      "[[ 0.5238827  -0.00179951]\n",
      " [-0.33924514  0.18750945]\n",
      " [-0.89836234 -0.76285404]\n",
      " [-0.7214177  -0.03025485]\n",
      " [-0.0098532   0.42147025]]\n",
      "m_T\n",
      "[[-0.59812367 -0.08630171]]\n",
      "c_T\n",
      "[[-0.0098532   0.42147025]]\n",
      "x_in\n",
      "[[-0.0098532   0.42147025]\n",
      " [-0.59812367 -0.08630171]]\n"
     ]
    }
   ],
   "source": [
    "print('cos')\n",
    "print(outs[1].round(3))\n",
    "# s_t\n",
    "\n",
    "# sim\n",
    "\n",
    "print('M_K')\n",
    "print(outs[0])\n",
    "print('stim_T')\n",
    "print(outs[2][:,-1])\n",
    "print('M_V')\n",
    "print(outs[4])\n",
    "print('m_T')\n",
    "print(outs[3])\n",
    "print('c_T')\n",
    "print(outs[5][:,-1])\n",
    "print('x_in')\n",
    "print(outs[6].reshape(2,-1))"
   ]
  },
  {
   "cell_type": "code",
   "execution_count": 592,
   "metadata": {},
   "outputs": [
    {
     "data": {
      "text/plain": [
       "[<matplotlib.lines.Line2D at 0x13c7fe1d0>]"
      ]
     },
     "execution_count": 592,
     "metadata": {},
     "output_type": "execute_result"
    },
    {
     "data": {
      "image/png": "[encoded data removed]",
      "text/plain": [
       "<Figure size 432x288 with 1 Axes>"
      ]
     },
     "metadata": {},
     "output_type": "display_data"
    }
   ],
   "source": [
    "x = np.linspace(0,1,100)\n",
    "t=4\n",
    "y=np.tanh(t*x)\n",
    "plt.plot(x,y)"
   ]
  }
 ],
 "metadata": {
  "kernelspec": {
   "display_name": "Python 3",
   "language": "python",
   "name": "python3"
  },
  "language_info": {
   "codemirror_mode": {
    "name": "ipython",
    "version": 3
   },
   "file_extension": ".py",
   "mimetype": "text/x-python",
   "name": "python",
   "nbconvert_exporter": "python",
   "pygments_lexer": "ipython3",
   "version": "3.6.5"
  }
 },
 "nbformat": 4,
 "nbformat_minor": 2
}
