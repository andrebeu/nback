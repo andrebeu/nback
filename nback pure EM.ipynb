{
 "cells": [
  {
   "cell_type": "markdown",
   "metadata": {},
   "source": [
    "# drifting context branch"
   ]
  },
  {
   "cell_type": "code",
   "execution_count": 112,
   "metadata": {},
   "outputs": [
    {
     "name": "stdout",
     "output_type": "stream",
     "text": [
      "The autoreload extension is already loaded. To reload it, use:\n",
      "  %reload_ext autoreload\n"
     ]
    }
   ],
   "source": [
    "import numpy as np\n",
    "import tensorflow as tf\n",
    "\n",
    "from pureEM import *\n",
    "\n",
    "import matplotlib.pyplot as plt\n",
    "%matplotlib inline\n",
    "\n",
    "%load_ext autoreload\n",
    "%reload_ext autoreload\n",
    "%autoreload 2\n"
   ]
  },
  {
   "cell_type": "markdown",
   "metadata": {},
   "source": [
    "### todo\n",
    "- embedding matrix is placeholder"
   ]
  },
  {
   "cell_type": "code",
   "execution_count": 141,
   "metadata": {},
   "outputs": [
    {
     "data": {
      "text/plain": [
       "array([[1, 0, 1, 0, 1]])"
      ]
     },
     "execution_count": 141,
     "metadata": {},
     "output_type": "execute_result"
    }
   ],
   "source": [
    "T,X,Y = task.gen_episode()\n",
    "X"
   ]
  },
  {
   "cell_type": "code",
   "execution_count": 86,
   "metadata": {},
   "outputs": [
    {
     "name": "stdout",
     "output_type": "stream",
     "text": [
      "-- proportion of true trials: M=0.25 S=0.17\n"
     ]
    },
    {
     "name": "stderr",
     "output_type": "stream",
     "text": [
      "/Users/abeukers/anaconda/lib/python3.6/site-packages/numpy/lib/function_base.py:2530: RuntimeWarning: invalid value encountered in true_divide\n",
      "  c /= stddev[:, None]\n",
      "/Users/abeukers/anaconda/lib/python3.6/site-packages/numpy/lib/function_base.py:2531: RuntimeWarning: invalid value encountered in true_divide\n",
      "  c /= stddev[None, :]\n"
     ]
    },
    {
     "data": {
      "text/plain": [
       "(array([[       nan,        nan,        nan,        nan,        nan],\n",
       "        [       nan, 1.        , 0.61237244, 0.40824829, 0.25      ],\n",
       "        [       nan, 0.61237244, 1.        , 0.66666667, 0.40824829],\n",
       "        [       nan, 0.40824829, 0.66666667, 1.        , 0.61237244],\n",
       "        [       nan, 0.25      , 0.40824829, 0.61237244, 1.        ]]),\n",
       " array([[1., 1., 1., 1., 1.],\n",
       "        [0., 1., 1., 1., 1.],\n",
       "        [0., 0., 1., 1., 1.],\n",
       "        [0., 0., 0., 1., 1.],\n",
       "        [0., 0., 0., 0., 1.]]))"
      ]
     },
     "execution_count": 86,
     "metadata": {},
     "output_type": "execute_result"
    },
    {
     "data": {
      "image/png": "[encoded data removed]",
      "text/plain": [
       "<Figure size 432x288 with 1 Axes>"
      ]
     },
     "metadata": {},
     "output_type": "display_data"
    }
   ],
   "source": [
    "\"\"\" \n",
    "memory debugger: \n",
    "  generate data to assess the retrieval behavior of the network\n",
    "\"\"\"\n",
    "\n",
    "ntrials = 5\n",
    "edim = ntrials\n",
    "nstim = x10\n",
    "\n",
    "task = NBackTask(nstim=nstim,ntrials=ntrials,flip_pr=.35)\n",
    "net = PureEM(nstim=nstim,ntrials=ntrials,discount_rate=0.9,edim=ntrials)\n",
    "\n",
    "context_emat = np.triu(np.ones([ntrials,edim]))\n",
    "T,X,Y = task.gen_episode()\n",
    "\n",
    "feed_dict = {\n",
    "  net.trial_ph:T,\n",
    "  net.stim_ph:X,\n",
    "  net.y_ph:Y,\n",
    "  net.context_emat_ph:context_emat\n",
    "}\n",
    "\n",
    "ops = [\n",
    "      net.minimizer,\n",
    "      net.train_loss,\n",
    "      net.response,\n",
    "      net.retrieved_memory\n",
    "    ]\n",
    "\n",
    "outs = net.sess.run(ops,feed_dict)\n",
    "    \n"
   ]
  },
  {
   "cell_type": "code",
   "execution_count": 143,
   "metadata": {},
   "outputs": [],
   "source": [
    "def train_loop(net,task,epochs=10000):\n",
    "#   context_emat = np.triu(np.ones([net.ntrials,net.context_edim]))\n",
    "  context_emat = np.random.randn(net.ntrials,net.context_edim)\n",
    "  print(context_emat)\n",
    "  # arrays\n",
    "  L = -1*np.ones(epochs)\n",
    "  A = -1*np.ones(epochs)\n",
    "  for ep in range(epochs): \n",
    "    T,X,Y = task.gen_episode()\n",
    "    feed_dict = {\n",
    "      net.trial_ph:T,\n",
    "      net.stim_ph:X,\n",
    "      net.y_ph:Y,\n",
    "      net.context_emat_ph:context_emat\n",
    "    }\n",
    "    ops = [\n",
    "      net.minimizer,\n",
    "      net.train_loss,\n",
    "      net.response,\n",
    "      net.retrieved_memory\n",
    "    ]\n",
    "    # record loss and accuracy\n",
    "    outs = net.sess.run(ops,feed_dict)\n",
    "    _,loss,yhat,m_T = outs\n",
    "\n",
    "    L[ep] = loss.mean()\n",
    "    A[ep] = np.mean(yhat==Y[:,2:])\n",
    "  return L,A\n"
   ]
  },
  {
   "cell_type": "code",
   "execution_count": null,
   "metadata": {},
   "outputs": [
    {
     "name": "stdout",
     "output_type": "stream",
     "text": [
      "semat untrainable\n",
      "-- proportion of true trials: M=0.36 S=0.17\n",
      "[[ 0.74179634  0.39106912 -0.25947739  1.31395936 -1.64161931]\n",
      " [-1.08926781 -1.39598072  0.03994865  0.29662519  0.3094476 ]\n",
      " [-0.23800718  0.69126033 -1.62307339  1.19280716 -0.20141691]\n",
      " [ 0.13144558  1.60173807 -0.55240839  0.33046951 -0.40868672]\n",
      " [-0.20766396  0.64571091  0.75687344 -0.29112485  1.61228027]]\n"
     ]
    }
   ],
   "source": [
    "ntrials = 5\n",
    "nstim = 5\n",
    "epochs = 50000\n",
    "discount_rate = 0.9\n",
    "dim = 25\n",
    "stim_edim = 25\n",
    "context_edim = ntrials\n",
    "\n",
    "net = PureEM(nstim,ntrials,dim,stim_edim,context_edim,discount_rate)\n",
    "task = NBackTask(nstim=nstim,ntrials=ntrials,flip_pr=.5)\n",
    "L,A = train_loop(net,task,epochs)"
   ]
  },
  {
   "cell_type": "code",
   "execution_count": null,
   "metadata": {},
   "outputs": [],
   "source": [
    "plt.figure(figsize=(14,4))\n",
    "ax = plt.gca()\n",
    "ax.plot(L)\n",
    "ax.set_ylabel('loss')\n",
    "ax.set_xlabel('epoch')\n",
    "ax2 = ax.twinx()\n",
    "ax2.scatter(range(len(A)),A,c='r')\n",
    "ax2.set_ylabel('accoracy')\n",
    "plt.title('context not trainable')\n",
    "# plt.savefig('figures/pureem-shifting_context/train_lossacc-trainable_context')\n"
   ]
  },
  {
   "cell_type": "markdown",
   "metadata": {},
   "source": [
    "### simulating chance"
   ]
  },
  {
   "cell_type": "code",
   "execution_count": 749,
   "metadata": {},
   "outputs": [
    {
     "name": "stdout",
     "output_type": "stream",
     "text": [
      "proportion of true trials: M=0.39 S=0.14\n"
     ]
    },
    {
     "data": {
      "image/png": "[encoded data removed]",
      "text/plain": [
       "<Figure size 432x288 with 1 Axes>"
      ]
     },
     "metadata": {},
     "output_type": "display_data"
    }
   ],
   "source": [
    "ntrials = 10\n",
    "nstim = 5\n",
    "true_nback_pr = .35\n",
    "task = NBackTask(nstim=nstim,ntrials=ntrials,true_nback_pr=true_nback_pr)\n",
    "\n",
    "L = []\n",
    "for i in range(1000):\n",
    "  T,X,Y = task.gen_episode()\n",
    "  L.append(Y.sum()/Y.shape[1])\n",
    "\n",
    "plt.violinplot(L)\n",
    "print(\"proportion of true trials: M=%.2f S=%.2f\"%(np.mean(L),np.std(L)))"
   ]
  },
  {
   "cell_type": "markdown",
   "metadata": {},
   "source": [
    "### debugging"
   ]
  },
  {
   "cell_type": "code",
   "execution_count": 679,
   "metadata": {},
   "outputs": [
    {
     "name": "stdout",
     "output_type": "stream",
     "text": [
      "Tensor(\"strided_slice_2:0\", shape=(1, 2), dtype=float32)\n",
      "Tensor(\"strided_slice:0\", shape=(2, 2), dtype=float32)\n",
      "[1.0, 0.9]\n",
      "Tensor(\"strided_slice_4:0\", shape=(1, 2), dtype=float32)\n",
      "Tensor(\"M_keys_write:0\", shape=(3, 2), dtype=float32)\n",
      "[0.9, 1.0, 0.9]\n",
      "Tensor(\"strided_slice_6:0\", shape=(1, 2), dtype=float32)\n",
      "Tensor(\"M_keys_write_1:0\", shape=(4, 2), dtype=float32)\n",
      "[0.81, 0.9, 1.0, 0.9]\n"
     ]
    }
   ],
   "source": [
    "ntrials=5\n",
    "net = PureEM(ntrials=ntrials,dim=2)\n",
    "# task = NBackTask()\n",
    "# net.reinitialize()\n",
    "ntrials=5\n",
    "for ep in range(1): \n",
    "  T,X,Y = task.genseq(ntrials=ntrials)\n",
    "  feed_dict = {net.trial_ph:T,net.stim_ph:X,net.y_ph:Y}\n",
    "  ops = [\n",
    "    net.M_keys,\n",
    "    net.query_key_sim,\n",
    "    net.stim,\n",
    "    net.retrieved_memory,\n",
    "    net.M_values,\n",
    "    net.context,\n",
    "    net.response_in\n",
    "  ]\n",
    "  outs = net.sess.run(ops,feed_dict)"
   ]
  },
  {
   "cell_type": "code",
   "execution_count": 680,
   "metadata": {},
   "outputs": [
    {
     "name": "stdout",
     "output_type": "stream",
     "text": [
      "1\n",
      "2\n",
      "0\n",
      "2\n",
      "2\n"
     ]
    }
   ],
   "source": [
    "# stim seq\n",
    "for x in X.squeeze():\n",
    "  print(x)"
   ]
  },
  {
   "cell_type": "code",
   "execution_count": 681,
   "metadata": {},
   "outputs": [
    {
     "name": "stdout",
     "output_type": "stream",
     "text": [
      "cos\n",
      "[0.004 0.4   0.196 0.4  ]\n",
      "M_K\n",
      "[[ 0.11894773  0.9486887 ]\n",
      " [-0.27373168 -0.96113366]\n",
      " [-0.6422192   0.66132146]\n",
      " [-0.27373168 -0.96113366]\n",
      " [-0.27373168 -0.96113366]]\n",
      "stim_T\n",
      "[[-0.27373168 -0.96113366]]\n",
      "M_V\n",
      "[[ 0.5238827  -0.00179951]\n",
      " [-0.33924514  0.18750945]\n",
      " [-0.89836234 -0.76285404]\n",
      " [-0.7214177  -0.03025485]\n",
      " [-0.0098532   0.42147025]]\n",
      "m_T\n",
      "[[-0.59812367 -0.08630171]]\n",
      "c_T\n",
      "[[-0.0098532   0.42147025]]\n",
      "x_in\n",
      "[[-0.0098532   0.42147025]\n",
      " [-0.59812367 -0.08630171]]\n"
     ]
    }
   ],
   "source": [
    "print('cos')\n",
    "print(outs[1].round(3))\n",
    "# s_t\n",
    "\n",
    "# sim\n",
    "\n",
    "print('M_K')\n",
    "print(outs[0])\n",
    "print('stim_T')\n",
    "print(outs[2][:,-1])\n",
    "print('M_V')\n",
    "print(outs[4])\n",
    "print('m_T')\n",
    "print(outs[3])\n",
    "print('c_T')\n",
    "print(outs[5][:,-1])\n",
    "print('x_in')\n",
    "print(outs[6].reshape(2,-1))"
   ]
  },
  {
   "cell_type": "code",
   "execution_count": 592,
   "metadata": {},
   "outputs": [
    {
     "data": {
      "text/plain": [
       "[<matplotlib.lines.Line2D at 0x13c7fe1d0>]"
      ]
     },
     "execution_count": 592,
     "metadata": {},
     "output_type": "execute_result"
    },
    {
     "data": {
      "image/png": "[encoded data removed]",
      "text/plain": [
       "<Figure size 432x288 with 1 Axes>"
      ]
     },
     "metadata": {},
     "output_type": "display_data"
    }
   ],
   "source": [
    "x = np.linspace(0,1,100)\n",
    "t=4\n",
    "y=np.tanh(t*x)\n",
    "plt.plot(x,y)"
   ]
  }
 ],
 "metadata": {
  "kernelspec": {
   "display_name": "Python 3",
   "language": "python",
   "name": "python3"
  },
  "language_info": {
   "codemirror_mode": {
    "name": "ipython",
    "version": 3
   },
   "file_extension": ".py",
   "mimetype": "text/x-python",
   "name": "python",
   "nbconvert_exporter": "python",
   "pygments_lexer": "ipython3",
   "version": "3.6.5"
  }
 },
 "nbformat": 4,
 "nbformat_minor": 2
}
