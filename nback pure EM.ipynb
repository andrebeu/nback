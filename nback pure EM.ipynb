{
 "cells": [
  {
   "cell_type": "markdown",
   "metadata": {},
   "source": [
    "# branch: lstm readout + drifting context\n",
    "- context drifts with fixed step size in random direction. try between episode randomization.\n",
    "- memory keys are same as memory values: concatenated context-stimulus vectors\n",
    "- order for feed into readout given by similarity of query to key "
   ]
  },
  {
   "cell_type": "code",
   "execution_count": 1,
   "metadata": {},
   "outputs": [
    {
     "name": "stderr",
     "output_type": "stream",
     "text": [
      "/Users/abeukers/anaconda/lib/python3.6/site-packages/h5py/__init__.py:34: FutureWarning: Conversion of the second argument of issubdtype from `float` to `np.floating` is deprecated. In future, it will be treated as `np.float64 == np.dtype(float).type`.\n",
      "  from ._conv import register_converters as _register_converters\n"
     ]
    }
   ],
   "source": [
    "import numpy as np\n",
    "import tensorflow as tf\n",
    "\n",
    "from pureEM import *\n",
    "\n",
    "import matplotlib.pyplot as plt\n",
    "%matplotlib inline\n",
    "\n",
    "%load_ext autoreload\n",
    "%reload_ext autoreload\n",
    "%autoreload 2\n"
   ]
  },
  {
   "cell_type": "code",
   "execution_count": 2,
   "metadata": {},
   "outputs": [
    {
     "data": {
      "image/png": "[encoded data removed]",
      "text/plain": [
       "<Figure size 720x360 with 2 Axes>"
      ]
     },
     "metadata": {},
     "output_type": "display_data"
    }
   ],
   "source": [
    "## sample new context emat\n",
    "def generate_context_drift(ntrials,context_edim):\n",
    "  delta_std = .3\n",
    "  delta_mean = 1\n",
    "  alpha = .5\n",
    "  arr = -np.ones([ntrials,context_edim])\n",
    "  v_t = np.random.normal(delta_mean,delta_std,context_edim)\n",
    "  for step in range(ntrials):\n",
    "    delta_t = np.random.normal(delta_mean,delta_std,context_edim)\n",
    "    v_t += alpha*delta_t\n",
    "    arr[step] = v_t\n",
    "  return arr\n",
    "  \n",
    "context_arr = generate_context_drift(10,10)\n",
    "\n",
    "fig,axarr = plt.subplots(1,2,figsize=(10,5));axarr=axarr.reshape(-1)\n",
    "axarr[0].scatter(context_arr[:,0],context_arr[:,1],c=np.arange(len(context_arr)),cmap=plt.get_cmap('Purples'))\n",
    "axarr[1].imshow(np.corrcoef(context_arr),cmap=plt.get_cmap('Reds'))\n",
    "plt.savefig('figures/pureem-drifting_context/context_drift_sample')"
   ]
  },
  {
   "cell_type": "markdown",
   "metadata": {},
   "source": [
    "## training"
   ]
  },
  {
   "cell_type": "code",
   "execution_count": 23,
   "metadata": {},
   "outputs": [],
   "source": [
    "def train_loop(net,task,epochs,sess_context,sess_stim):\n",
    "  \"\"\"\n",
    "  training with randomly drifting context\n",
    "  \"\"\"\n",
    "  L = -1*np.ones(epochs)\n",
    "  A = -1*np.ones(epochs)\n",
    "  for ep in range(epochs):\n",
    "    if ep%sess_stim==0:\n",
    "      print('rand stim emat')\n",
    "      net.sess.run(net.randomize_stim_emat)\n",
    "    if ep%sess_context==0:\n",
    "      context_emat = generate_context_drift(net.ntrials,net.context_edim)\n",
    "    \n",
    "    T,X,Y = task.gen_episode_data()\n",
    "    feed_dict = {\n",
    "      net.trial_ph:T,\n",
    "      net.stim_ph:X,\n",
    "      net.y_ph:Y,\n",
    "      net.context_emat_ph:context_emat\n",
    "    }\n",
    "    ops = [\n",
    "      net.minimizer,\n",
    "      net.train_loss,\n",
    "      net.response,\n",
    "    ]\n",
    "    # record loss and accuracy\n",
    "    outs = net.sess.run(ops,feed_dict)\n",
    "    _,loss,yhat = outs\n",
    "\n",
    "    L[ep] = loss.mean()\n",
    "    A[ep] = np.mean(yhat==Y[:,2:])\n",
    "  return L,A\n"
   ]
  },
  {
   "cell_type": "code",
   "execution_count": 24,
   "metadata": {},
   "outputs": [
    {
     "name": "stdout",
     "output_type": "stream",
     "text": [
      "-- proportion of true trials: M=0.50 S=0.12\n"
     ]
    }
   ],
   "source": [
    "ntrials = 15\n",
    "nstim = 3\n",
    "dim = 20\n",
    "stim_edim = 5\n",
    "context_edim = 5\n",
    "\n",
    "net = PureEM(nstim,ntrials,dim,stim_edim,context_edim)\n",
    "task = NBackTask(nstim=nstim,ntrials=ntrials,flip_pr=.35)"
   ]
  },
  {
   "cell_type": "code",
   "execution_count": 25,
   "metadata": {
    "scrolled": true
   },
   "outputs": [
    {
     "name": "stdout",
     "output_type": "stream",
     "text": [
      "rand stim emat\n",
      "rand stim emat\n",
      "rand stim emat\n",
      "rand stim emat\n",
      "rand stim emat\n",
      "rand stim emat\n",
      "rand stim emat\n",
      "rand stim emat\n",
      "rand stim emat\n",
      "rand stim emat\n",
      "rand stim emat\n",
      "rand stim emat\n",
      "rand stim emat\n",
      "rand stim emat\n",
      "rand stim emat\n",
      "rand stim emat\n",
      "rand stim emat\n",
      "rand stim emat\n",
      "rand stim emat\n",
      "rand stim emat\n"
     ]
    }
   ],
   "source": [
    "epochs = 200000\n",
    "sess_stim = 10000\n",
    "sess_context = 1\n",
    "train_loss,train_acc = train_loop(net,task,epochs,sess_context,sess_stim)"
   ]
  },
  {
   "cell_type": "code",
   "execution_count": 26,
   "metadata": {},
   "outputs": [
    {
     "data": {
      "text/plain": [
       "Text(0.5,1,'drifting context, non-trainable orthogonal stim embeddings ')"
      ]
     },
     "execution_count": 26,
     "metadata": {},
     "output_type": "execute_result"
    },
    {
     "data": {
      "image/png": "[encoded data removed]",
      "text/plain": [
       "<Figure size 1008x288 with 2 Axes>"
      ]
     },
     "metadata": {},
     "output_type": "display_data"
    }
   ],
   "source": [
    "plt.figure(figsize=(14,4))\n",
    "ax = plt.gca()\n",
    "ax.plot(train_loss,c='r')\n",
    "ax.set_ylabel('loss')\n",
    "ax.set_xlabel('epoch')\n",
    "\n",
    "ax2 = ax.twinx()\n",
    "ax2.scatter(range(len(train_acc)),train_acc,c='b')\n",
    "ax2.set_ylabel('accoracy')\n",
    "# for t in range(0,epochs,sesslen):\n",
    "#   ax.axvline(t,c='g')\n",
    "plt.title('drifting context, non-trainable orthogonal stim embeddings ')\n",
    "\n",
    "# plt.savefig('figures/pureem-drifting_context/train_lossacc-ntrials_%i-nstim_%i'%(ntrials,nstim))\n"
   ]
  },
  {
   "cell_type": "markdown",
   "metadata": {},
   "source": [
    "## eval"
   ]
  },
  {
   "cell_type": "code",
   "execution_count": 27,
   "metadata": {},
   "outputs": [],
   "source": [
    "nitr = 10000\n",
    "data = -np.ones([nitr,ntrials-2])\n",
    "for itr in range(nitr):\n",
    "  context_emat = generate_context_drift(net.ntrials,net.context_edim)\n",
    "\n",
    "  T,X,Y = task.gen_episode_data()\n",
    "\n",
    "  feed_dict = {\n",
    "    net.trial_ph:T,\n",
    "    net.stim_ph:X,\n",
    "    net.y_ph:Y,\n",
    "    net.context_emat_ph:context_emat\n",
    "  }\n",
    "  ops = [\n",
    "    net.response,\n",
    "  ]\n",
    "  \n",
    "  net.sess.run(net.randomize_stim_emat)\n",
    "  yhat = net.sess.run(ops,feed_dict)\n",
    "\n",
    "  data[itr] = (yhat[0] == Y[:,2:]).astype(int)\n"
   ]
  },
  {
   "cell_type": "code",
   "execution_count": 29,
   "metadata": {},
   "outputs": [
    {
     "data": {
      "text/plain": [
       "Text(0.5,1,'mean over 10000 new context drifts + new stimulus representations')"
      ]
     },
     "execution_count": 29,
     "metadata": {},
     "output_type": "execute_result"
    },
    {
     "data": {
      "image/png": "[encoded data removed]",
      "text/plain": [
       "<Figure size 864x288 with 1 Axes>"
      ]
     },
     "metadata": {},
     "output_type": "display_data"
    }
   ],
   "source": [
    "plt.figure(figsize=(12,4))\n",
    "M = data.mean(0)\n",
    "S = data.std(0)/np.sqrt(nitr)\n",
    "plt.plot(M)\n",
    "plt.scatter(range(len(M)),M)\n",
    "plt.fill_between(range(len(M)),M-S,M+S,alpha=.1,color='b')\n",
    "plt.ylabel('mean accuracy')\n",
    "plt.xlabel('trial')\n",
    "plt.ylim(0.7,1)\n",
    "plt.title('mean over 10000 new context drifts + new stimulus representations')\n",
    "# plt.savefig('figures/pureem-drifting_context/eval_trials-400k_training-stim_heldout')"
   ]
  },
  {
   "cell_type": "markdown",
   "metadata": {},
   "source": [
    "### inspect learned stim_emat"
   ]
  },
  {
   "cell_type": "code",
   "execution_count": 86,
   "metadata": {
    "collapsed": true
   },
   "outputs": [
    {
     "name": "stdout",
     "output_type": "stream",
     "text": [
      "(5, 5)\n"
     ]
    },
    {
     "data": {
      "text/plain": [
       "array([[ 1.  , -0.03, -0.12,  0.05,  0.01],\n",
       "       [-0.03,  1.  , -0.43,  0.18,  0.04],\n",
       "       [-0.12, -0.43,  1.  ,  0.77,  0.15],\n",
       "       [ 0.05,  0.18,  0.77,  1.  , -0.06],\n",
       "       [ 0.01,  0.04,  0.15, -0.06,  1.  ]])"
      ]
     },
     "execution_count": 86,
     "metadata": {},
     "output_type": "execute_result"
    },
    {
     "data": {
      "image/png": "[encoded data removed]",
      "text/plain": [
       "<Figure size 432x288 with 2 Axes>"
      ]
     },
     "metadata": {},
     "output_type": "display_data"
    }
   ],
   "source": [
    "semat = net.sess.run(net.stim_emat)\n",
    "print(semat.shape)\n",
    "C = np.corrcoef(semat)\n",
    "plt.imshow(C,cmap=plt.get_cmap('Greys'),vmax=0)\n",
    "plt.colorbar()\n",
    "C.round(2)"
   ]
  },
  {
   "cell_type": "markdown",
   "metadata": {},
   "source": [
    "### inspect retrieval"
   ]
  },
  {
   "cell_type": "code",
   "execution_count": 87,
   "metadata": {},
   "outputs": [
    {
     "data": {
      "text/plain": [
       "array([[[-0.11077335, -0.22799161,  0.31771746,  1.7155287 ,\n",
       "          0.46887422],\n",
       "        [-0.        , -0.        ,  0.        , -0.        ,\n",
       "         -0.        ],\n",
       "        [-1.087011  ,  0.3404636 ,  0.12392487, -1.2465123 ,\n",
       "         -1.5236385 ],\n",
       "        [-0.        , -0.        , -0.        , -0.        ,\n",
       "          0.        ]]], dtype=float32)"
      ]
     },
     "execution_count": 87,
     "metadata": {},
     "output_type": "execute_result"
    }
   ],
   "source": [
    "seq = [0,1,0,2,0]\n",
    "T,X,Y = task.format_seq_into_dataset(seq)\n",
    "context_emat = np.identity(ntrials)\n",
    "context_emat = np.random.randn(net.ntrials,net.context_edim)\n",
    "\n",
    "feed_dict = {\n",
    "  net.trial_ph:T,\n",
    "  net.stim_ph:X,\n",
    "  net.y_ph:Y,\n",
    "  net.context_emat_ph:context_emat\n",
    "}\n",
    "\n",
    "L = net.sess.run(net.retrieved_contextsL,feed_dict=feed_dict)\n",
    "L[2]"
   ]
  },
  {
   "cell_type": "code",
   "execution_count": 88,
   "metadata": {},
   "outputs": [
    {
     "data": {
      "text/plain": [
       "[array([ 1.0000000e+00, -7.8231096e-08], dtype=float32),\n",
       " array([-1.8626451e-08, -2.9802322e-08, -1.8626451e-08], dtype=float32),\n",
       " array([ 1.0000000e+00, -7.8231096e-08,  1.0000000e+00, -1.8626451e-08],\n",
       "       dtype=float32)]"
      ]
     },
     "execution_count": 88,
     "metadata": {},
     "output_type": "execute_result"
    }
   ],
   "source": [
    "net.sess.run(net.qksimL,feed_dict=feed_dict)"
   ]
  },
  {
   "cell_type": "markdown",
   "metadata": {},
   "source": [
    "### simulating chance"
   ]
  },
  {
   "cell_type": "code",
   "execution_count": 749,
   "metadata": {},
   "outputs": [
    {
     "name": "stdout",
     "output_type": "stream",
     "text": [
      "proportion of true trials: M=0.39 S=0.14\n"
     ]
    },
    {
     "data": {
      "image/png": "[encoded data removed]",
      "text/plain": [
       "<Figure size 432x288 with 1 Axes>"
      ]
     },
     "metadata": {},
     "output_type": "display_data"
    }
   ],
   "source": [
    "ntrials = 10\n",
    "nstim = 5\n",
    "true_nback_pr = .35\n",
    "task = NBackTask(nstim=nstim,ntrials=ntrials,true_nback_pr=true_nback_pr)\n",
    "\n",
    "L = []\n",
    "for i in range(1000):\n",
    "  T,X,Y = task.gen_episode()\n",
    "  L.append(Y.sum()/Y.shape[1])\n",
    "\n",
    "plt.violinplot(L)\n",
    "print(\"proportion of true trials: M=%.2f S=%.2f\"%(np.mean(L),np.std(L)))"
   ]
  },
  {
   "cell_type": "markdown",
   "metadata": {},
   "source": [
    "### debugging"
   ]
  },
  {
   "cell_type": "code",
   "execution_count": 679,
   "metadata": {},
   "outputs": [
    {
     "name": "stdout",
     "output_type": "stream",
     "text": [
      "Tensor(\"strided_slice_2:0\", shape=(1, 2), dtype=float32)\n",
      "Tensor(\"strided_slice:0\", shape=(2, 2), dtype=float32)\n",
      "[1.0, 0.9]\n",
      "Tensor(\"strided_slice_4:0\", shape=(1, 2), dtype=float32)\n",
      "Tensor(\"M_keys_write:0\", shape=(3, 2), dtype=float32)\n",
      "[0.9, 1.0, 0.9]\n",
      "Tensor(\"strided_slice_6:0\", shape=(1, 2), dtype=float32)\n",
      "Tensor(\"M_keys_write_1:0\", shape=(4, 2), dtype=float32)\n",
      "[0.81, 0.9, 1.0, 0.9]\n"
     ]
    }
   ],
   "source": [
    "ntrials=5\n",
    "net = PureEM(ntrials=ntrials,dim=2)\n",
    "# task = NBackTask()\n",
    "# net.reinitialize()\n",
    "ntrials=5\n",
    "for ep in range(1): \n",
    "  T,X,Y = task.genseq(ntrials=ntrials)\n",
    "  feed_dict = {net.trial_ph:T,net.stim_ph:X,net.y_ph:Y}\n",
    "  ops = [\n",
    "    net.M_keys,\n",
    "    net.query_key_sim,\n",
    "    net.stim,\n",
    "    net.retrieved_memory,\n",
    "    net.M_values,\n",
    "    net.context,\n",
    "    net.response_in\n",
    "  ]\n",
    "  outs = net.sess.run(ops,feed_dict)"
   ]
  },
  {
   "cell_type": "code",
   "execution_count": 680,
   "metadata": {},
   "outputs": [
    {
     "name": "stdout",
     "output_type": "stream",
     "text": [
      "1\n",
      "2\n",
      "0\n",
      "2\n",
      "2\n"
     ]
    }
   ],
   "source": [
    "# stim seq\n",
    "for x in X.squeeze():\n",
    "  print(x)"
   ]
  },
  {
   "cell_type": "code",
   "execution_count": 681,
   "metadata": {},
   "outputs": [
    {
     "name": "stdout",
     "output_type": "stream",
     "text": [
      "cos\n",
      "[0.004 0.4   0.196 0.4  ]\n",
      "M_K\n",
      "[[ 0.11894773  0.9486887 ]\n",
      " [-0.27373168 -0.96113366]\n",
      " [-0.6422192   0.66132146]\n",
      " [-0.27373168 -0.96113366]\n",
      " [-0.27373168 -0.96113366]]\n",
      "stim_T\n",
      "[[-0.27373168 -0.96113366]]\n",
      "M_V\n",
      "[[ 0.5238827  -0.00179951]\n",
      " [-0.33924514  0.18750945]\n",
      " [-0.89836234 -0.76285404]\n",
      " [-0.7214177  -0.03025485]\n",
      " [-0.0098532   0.42147025]]\n",
      "m_T\n",
      "[[-0.59812367 -0.08630171]]\n",
      "c_T\n",
      "[[-0.0098532   0.42147025]]\n",
      "x_in\n",
      "[[-0.0098532   0.42147025]\n",
      " [-0.59812367 -0.08630171]]\n"
     ]
    }
   ],
   "source": [
    "print('cos')\n",
    "print(outs[1].round(3))\n",
    "# s_t\n",
    "\n",
    "# sim\n",
    "\n",
    "print('M_K')\n",
    "print(outs[0])\n",
    "print('stim_T')\n",
    "print(outs[2][:,-1])\n",
    "print('M_V')\n",
    "print(outs[4])\n",
    "print('m_T')\n",
    "print(outs[3])\n",
    "print('c_T')\n",
    "print(outs[5][:,-1])\n",
    "print('x_in')\n",
    "print(outs[6].reshape(2,-1))"
   ]
  },
  {
   "cell_type": "code",
   "execution_count": 592,
   "metadata": {},
   "outputs": [
    {
     "data": {
      "text/plain": [
       "[<matplotlib.lines.Line2D at 0x13c7fe1d0>]"
      ]
     },
     "execution_count": 592,
     "metadata": {},
     "output_type": "execute_result"
    },
    {
     "data": {
      "image/png": "[encoded data removed]",
      "text/plain": [
       "<Figure size 432x288 with 1 Axes>"
      ]
     },
     "metadata": {},
     "output_type": "display_data"
    }
   ],
   "source": [
    "x = np.linspace(0,1,100)\n",
    "t=4\n",
    "y=np.tanh(t*x)\n",
    "plt.plot(x,y)"
   ]
  }
 ],
 "metadata": {
  "kernelspec": {
   "display_name": "Python 3",
   "language": "python",
   "name": "python3"
  },
  "language_info": {
   "codemirror_mode": {
    "name": "ipython",
    "version": 3
   },
   "file_extension": ".py",
   "mimetype": "text/x-python",
   "name": "python",
   "nbconvert_exporter": "python",
   "pygments_lexer": "ipython3",
   "version": "3.6.5"
  }
 },
 "nbformat": 4,
 "nbformat_minor": 2
}
