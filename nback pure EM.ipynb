{
 "cells": [
  {
   "cell_type": "markdown",
   "metadata": {},
   "source": [
    "# drifting context branch"
   ]
  },
  {
   "cell_type": "code",
   "execution_count": 414,
   "metadata": {},
   "outputs": [
    {
     "name": "stdout",
     "output_type": "stream",
     "text": [
      "The autoreload extension is already loaded. To reload it, use:\n",
      "  %reload_ext autoreload\n"
     ]
    }
   ],
   "source": [
    "import numpy as np\n",
    "import tensorflow as tf\n",
    "\n",
    "from pureEM import *\n",
    "\n",
    "import matplotlib.pyplot as plt\n",
    "%matplotlib inline\n",
    "\n",
    "%load_ext autoreload\n",
    "%reload_ext autoreload\n",
    "%autoreload 2\n"
   ]
  },
  {
   "cell_type": "markdown",
   "metadata": {},
   "source": [
    "## training"
   ]
  },
  {
   "cell_type": "code",
   "execution_count": 492,
   "metadata": {},
   "outputs": [],
   "source": [
    "def train_loop(net,task,epochs):\n",
    "  context_emat = np.identity(net.ntrials)\n",
    "#   context_emat = np.random.randn(net.ntrials,net.context_edim)\n",
    "  print('\\n-context emat')\n",
    "  print(context_emat)\n",
    "  # arrays\n",
    "  L = -1*np.ones(epochs)\n",
    "  A = -1*np.ones(epochs)\n",
    "  for ep in range(epochs): \n",
    "    T,X,Y = task.gen_episode_data()\n",
    "    feed_dict = {\n",
    "      net.trial_ph:T,\n",
    "      net.stim_ph:X,\n",
    "      net.y_ph:Y,\n",
    "      net.context_emat_ph:context_emat\n",
    "    }\n",
    "    ops = [\n",
    "      net.minimizer,\n",
    "      net.train_loss,\n",
    "      net.response,\n",
    "    ]\n",
    "    # record loss and accuracy\n",
    "    outs = net.sess.run(ops,feed_dict)\n",
    "    _,loss,yhat = outs\n",
    "\n",
    "    L[ep] = loss.mean()\n",
    "    A[ep] = np.mean(yhat==Y[:,2:])\n",
    "  return L,A\n"
   ]
  },
  {
   "cell_type": "code",
   "execution_count": 509,
   "metadata": {},
   "outputs": [
    {
     "name": "stdout",
     "output_type": "stream",
     "text": [
      "gU init, notrain\n",
      "no inproj, relus\n",
      "-- proportion of true trials: M=0.37 S=0.17\n",
      "\n",
      "-context emat\n",
      "[[1. 0. 0. 0. 0.]\n",
      " [0. 1. 0. 0. 0.]\n",
      " [0. 0. 1. 0. 0.]\n",
      " [0. 0. 0. 1. 0.]\n",
      " [0. 0. 0. 0. 1.]]\n"
     ]
    }
   ],
   "source": [
    "ntrials = 5\n",
    "nstim = 5\n",
    "epochs = 20000\n",
    "\n",
    "dim = 20\n",
    "\n",
    "stim_edim = 5\n",
    "context_edim = ntrials\n",
    "\n",
    "discount_rate = .9\n",
    "memory_temp = 4\n",
    "\n",
    "net = PureEM(nstim,ntrials,dim,stim_edim,context_edim,discount_rate,memory_temp)\n",
    "task = NBackTask(nstim=nstim,ntrials=ntrials,flip_pr=.5)\n",
    "L,A = train_loop(net,task,epochs)"
   ]
  },
  {
   "cell_type": "code",
   "execution_count": 510,
   "metadata": {},
   "outputs": [
    {
     "data": {
      "text/plain": [
       "Text(0.5,1,'context not trainable')"
      ]
     },
     "execution_count": 510,
     "metadata": {},
     "output_type": "execute_result"
    },
    {
     "data": {
      "image/png": "[encoded data removed]",
      "text/plain": [
       "<Figure size 1008x288 with 2 Axes>"
      ]
     },
     "metadata": {},
     "output_type": "display_data"
    }
   ],
   "source": [
    "plt.figure(figsize=(14,4))\n",
    "ax = plt.gca()\n",
    "ax.plot(L)\n",
    "ax.set_ylabel('loss')\n",
    "ax.set_xlabel('epoch')\n",
    "ax2 = ax.twinx()\n",
    "ax2.scatter(range(len(A)),A,c='r')\n",
    "ax2.set_ylabel('accoracy')\n",
    "plt.title('context not trainable')\n",
    "# plt.savefig('figures/pureem-shifting_context/train_lossacc-trainable_context')\n"
   ]
  },
  {
   "cell_type": "markdown",
   "metadata": {},
   "source": [
    "### inspect learned stim_emat"
   ]
  },
  {
   "cell_type": "code",
   "execution_count": 511,
   "metadata": {},
   "outputs": [
    {
     "name": "stdout",
     "output_type": "stream",
     "text": [
      "(5, 5)\n"
     ]
    },
    {
     "data": {
      "text/plain": [
       "array([[ 1.  ,  0.14,  0.13,  0.4 ,  0.01],\n",
       "       [ 0.14,  1.  , -0.18, -0.53, -0.02],\n",
       "       [ 0.13, -0.18,  1.  , -0.51, -0.02],\n",
       "       [ 0.4 , -0.53, -0.51,  1.  , -0.05],\n",
       "       [ 0.01, -0.02, -0.02, -0.05,  1.  ]])"
      ]
     },
     "execution_count": 511,
     "metadata": {},
     "output_type": "execute_result"
    },
    {
     "data": {
      "image/png": "[encoded data removed]",
      "text/plain": [
       "<Figure size 432x288 with 2 Axes>"
      ]
     },
     "metadata": {},
     "output_type": "display_data"
    }
   ],
   "source": [
    "semat = net.sess.run(net.stim_emat)\n",
    "print(semat.shape)\n",
    "C = np.corrcoef(semat)\n",
    "plt.imshow(C,cmap=plt.get_cmap('Greys'),vmax=0)\n",
    "plt.colorbar()\n",
    "C.round(2)"
   ]
  },
  {
   "cell_type": "markdown",
   "metadata": {},
   "source": [
    "### inspect retrieval"
   ]
  },
  {
   "cell_type": "code",
   "execution_count": 513,
   "metadata": {},
   "outputs": [
    {
     "data": {
      "text/plain": [
       "Text(0.5,1,'[0, 1, 0, 2, 0]')"
      ]
     },
     "execution_count": 513,
     "metadata": {},
     "output_type": "execute_result"
    },
    {
     "data": {
      "image/png": "[encoded data removed]",
      "text/plain": [
       "<Figure size 720x432 with 3 Axes>"
      ]
     },
     "metadata": {},
     "output_type": "display_data"
    }
   ],
   "source": [
    "# ntrials = 5\n",
    "# # context_edim = ntrials\n",
    "# discount_rate = .9\n",
    "# memory_temp = 3\n",
    "\n",
    "# net = PureEM(nstim,ntrials,dim,stim_edim,context_edim,discount_rate,memory_temp)\n",
    "\n",
    "seq = [0,1,0,2,0]\n",
    "T,X,Y = task.format_seq_into_dataset(seq)\n",
    "context_emat = np.identity(ntrials)\n",
    "\n",
    "feed_dict = {\n",
    "  net.trial_ph:T,\n",
    "  net.stim_ph:X,\n",
    "  net.y_ph:Y,\n",
    "  net.context_emat_ph:context_emat\n",
    "}\n",
    "\n",
    "ops = [\n",
    "  *net.respinL,\n",
    "]\n",
    "\n",
    "respinL = net.sess.run(ops,feed_dict)\n",
    "fig,axarr = plt.subplots(len(respinL),1,figsize=(10,6),sharex=False);axarr=axarr.reshape(-1)\n",
    "for t,respin in enumerate(respinL):\n",
    "  ax = axarr[t]\n",
    "  ax.bar(np.arange(context_edim*2),respin)\n",
    "  ax.axvline(ntrials-.5,c='r')\n",
    "  ax.set_xticks(np.arange(ntrials*2))\n",
    "  ax.set_xticklabels(np.concatenate([np.arange(ntrials)+1,np.arange(ntrials)+1]))\n",
    "axarr[0].set_title(seq)"
   ]
  },
  {
   "cell_type": "markdown",
   "metadata": {},
   "source": [
    "### simulating chance"
   ]
  },
  {
   "cell_type": "code",
   "execution_count": 749,
   "metadata": {},
   "outputs": [
    {
     "name": "stdout",
     "output_type": "stream",
     "text": [
      "proportion of true trials: M=0.39 S=0.14\n"
     ]
    },
    {
     "data": {
      "image/png": "[encoded data removed]",
      "text/plain": [
       "<Figure size 432x288 with 1 Axes>"
      ]
     },
     "metadata": {},
     "output_type": "display_data"
    }
   ],
   "source": [
    "ntrials = 10\n",
    "nstim = 5\n",
    "true_nback_pr = .35\n",
    "task = NBackTask(nstim=nstim,ntrials=ntrials,true_nback_pr=true_nback_pr)\n",
    "\n",
    "L = []\n",
    "for i in range(1000):\n",
    "  T,X,Y = task.gen_episode()\n",
    "  L.append(Y.sum()/Y.shape[1])\n",
    "\n",
    "plt.violinplot(L)\n",
    "print(\"proportion of true trials: M=%.2f S=%.2f\"%(np.mean(L),np.std(L)))"
   ]
  },
  {
   "cell_type": "markdown",
   "metadata": {},
   "source": [
    "### debugging"
   ]
  },
  {
   "cell_type": "code",
   "execution_count": 679,
   "metadata": {},
   "outputs": [
    {
     "name": "stdout",
     "output_type": "stream",
     "text": [
      "Tensor(\"strided_slice_2:0\", shape=(1, 2), dtype=float32)\n",
      "Tensor(\"strided_slice:0\", shape=(2, 2), dtype=float32)\n",
      "[1.0, 0.9]\n",
      "Tensor(\"strided_slice_4:0\", shape=(1, 2), dtype=float32)\n",
      "Tensor(\"M_keys_write:0\", shape=(3, 2), dtype=float32)\n",
      "[0.9, 1.0, 0.9]\n",
      "Tensor(\"strided_slice_6:0\", shape=(1, 2), dtype=float32)\n",
      "Tensor(\"M_keys_write_1:0\", shape=(4, 2), dtype=float32)\n",
      "[0.81, 0.9, 1.0, 0.9]\n"
     ]
    }
   ],
   "source": [
    "ntrials=5\n",
    "net = PureEM(ntrials=ntrials,dim=2)\n",
    "# task = NBackTask()\n",
    "# net.reinitialize()\n",
    "ntrials=5\n",
    "for ep in range(1): \n",
    "  T,X,Y = task.genseq(ntrials=ntrials)\n",
    "  feed_dict = {net.trial_ph:T,net.stim_ph:X,net.y_ph:Y}\n",
    "  ops = [\n",
    "    net.M_keys,\n",
    "    net.query_key_sim,\n",
    "    net.stim,\n",
    "    net.retrieved_memory,\n",
    "    net.M_values,\n",
    "    net.context,\n",
    "    net.response_in\n",
    "  ]\n",
    "  outs = net.sess.run(ops,feed_dict)"
   ]
  },
  {
   "cell_type": "code",
   "execution_count": 680,
   "metadata": {},
   "outputs": [
    {
     "name": "stdout",
     "output_type": "stream",
     "text": [
      "1\n",
      "2\n",
      "0\n",
      "2\n",
      "2\n"
     ]
    }
   ],
   "source": [
    "# stim seq\n",
    "for x in X.squeeze():\n",
    "  print(x)"
   ]
  },
  {
   "cell_type": "code",
   "execution_count": 681,
   "metadata": {},
   "outputs": [
    {
     "name": "stdout",
     "output_type": "stream",
     "text": [
      "cos\n",
      "[0.004 0.4   0.196 0.4  ]\n",
      "M_K\n",
      "[[ 0.11894773  0.9486887 ]\n",
      " [-0.27373168 -0.96113366]\n",
      " [-0.6422192   0.66132146]\n",
      " [-0.27373168 -0.96113366]\n",
      " [-0.27373168 -0.96113366]]\n",
      "stim_T\n",
      "[[-0.27373168 -0.96113366]]\n",
      "M_V\n",
      "[[ 0.5238827  -0.00179951]\n",
      " [-0.33924514  0.18750945]\n",
      " [-0.89836234 -0.76285404]\n",
      " [-0.7214177  -0.03025485]\n",
      " [-0.0098532   0.42147025]]\n",
      "m_T\n",
      "[[-0.59812367 -0.08630171]]\n",
      "c_T\n",
      "[[-0.0098532   0.42147025]]\n",
      "x_in\n",
      "[[-0.0098532   0.42147025]\n",
      " [-0.59812367 -0.08630171]]\n"
     ]
    }
   ],
   "source": [
    "print('cos')\n",
    "print(outs[1].round(3))\n",
    "# s_t\n",
    "\n",
    "# sim\n",
    "\n",
    "print('M_K')\n",
    "print(outs[0])\n",
    "print('stim_T')\n",
    "print(outs[2][:,-1])\n",
    "print('M_V')\n",
    "print(outs[4])\n",
    "print('m_T')\n",
    "print(outs[3])\n",
    "print('c_T')\n",
    "print(outs[5][:,-1])\n",
    "print('x_in')\n",
    "print(outs[6].reshape(2,-1))"
   ]
  },
  {
   "cell_type": "code",
   "execution_count": 592,
   "metadata": {},
   "outputs": [
    {
     "data": {
      "text/plain": [
       "[<matplotlib.lines.Line2D at 0x13c7fe1d0>]"
      ]
     },
     "execution_count": 592,
     "metadata": {},
     "output_type": "execute_result"
    },
    {
     "data": {
      "image/png": "[encoded data removed]",
      "text/plain": [
       "<Figure size 432x288 with 1 Axes>"
      ]
     },
     "metadata": {},
     "output_type": "display_data"
    }
   ],
   "source": [
    "x = np.linspace(0,1,100)\n",
    "t=4\n",
    "y=np.tanh(t*x)\n",
    "plt.plot(x,y)"
   ]
  }
 ],
 "metadata": {
  "kernelspec": {
   "display_name": "Python 3",
   "language": "python",
   "name": "python3"
  },
  "language_info": {
   "codemirror_mode": {
    "name": "ipython",
    "version": 3
   },
   "file_extension": ".py",
   "mimetype": "text/x-python",
   "name": "python",
   "nbconvert_exporter": "python",
   "pygments_lexer": "ipython3",
   "version": "3.6.5"
  }
 },
 "nbformat": 4,
 "nbformat_minor": 2
}
