{
 "cells": [
  {
   "cell_type": "code",
   "execution_count": 1,
   "metadata": {},
   "outputs": [],
   "source": [
    "from datetime import datetime as dt\n",
    "from glob import glob as glob\n",
    "import torch as tr\n",
    "import numpy as np\n",
    "import itertools\n",
    "\n",
    "from Nback_tasks import NbackTask_PureEM\n",
    "from Nback_models import PureEM\n",
    "\n",
    "from matplotlib import pyplot as plt\n",
    "%matplotlib inline\n",
    "plt.rcParams.update({'font.size':22})\n",
    "\n",
    "%load_ext autoreload\n",
    "%reload_ext autoreload\n",
    "%autoreload 2\n"
   ]
  },
  {
   "cell_type": "code",
   "execution_count": 2,
   "metadata": {},
   "outputs": [],
   "source": [
    "def run_model(net,gen_data_fn,neps,training=False,verb=False):\n",
    "  \"\"\" gen_data_fn: callable that generates a trial of data (embedded)\n",
    "  \"\"\"\n",
    "  lossop = tr.nn.CrossEntropyLoss()\n",
    "  optiop = tr.optim.Adam(net.parameters(), lr=0.001)\n",
    "  # data generating option:\n",
    "  C,X,Y = gen_data_fn()\n",
    "  seqlen = len(C)\n",
    "  # loop\n",
    "  score = -np.ones([neps,seqlen])    \n",
    "  for ep in range(neps):\n",
    "    if ep%(neps/10)==0:\n",
    "      if verb:print(ep/neps)\n",
    "    # gen stim\n",
    "    context,stim,ytarget = gen_data_fn()\n",
    "    # forward prop\n",
    "    yhat = net(context,stim)\n",
    "    score[ep] = tr.argmax(tr.softmax(yhat,-1),-1).squeeze() == ytarget\n",
    "    if training:\n",
    "      for tstep in range(seqlen):\n",
    "        loss = lossop(yhat[tstep],ytarget[:,tstep])\n",
    "        optiop.zero_grad()\n",
    "        loss.backward(retain_graph=True)\n",
    "        optiop.step()\n",
    "  return score\n",
    "\n"
   ]
  },
  {
   "cell_type": "code",
   "execution_count": 3,
   "metadata": {},
   "outputs": [],
   "source": [
    "ntokens=5\n",
    "cdrift=0.5\n",
    "cdim=5\n",
    "sedim=10\n",
    "indim=cdim+sedim\n",
    "stsize=20\n",
    "seed = np.random.randint(1000)"
   ]
  },
  {
   "cell_type": "code",
   "execution_count": 4,
   "metadata": {},
   "outputs": [],
   "source": [
    "neps = 5000\n",
    "seqlen=10"
   ]
  },
  {
   "cell_type": "code",
   "execution_count": 5,
   "metadata": {},
   "outputs": [],
   "source": [
    "nback=1\n",
    "task = NbackTask_PureEM(nback=nback,ntokens=ntokens,cdrift=.5,cdim=5,sedim=10)\n",
    "net = PureEM(nback,indim,stsize,mthresh=.95,seed=seed,debug=False)\n",
    "\n",
    "gen_rand_trials = lambda: task.gen_ep_data(seqlen)\n",
    "trsc = run_model(net,gen_rand_trials,neps,training=True,verb=False)"
   ]
  },
  {
   "cell_type": "code",
   "execution_count": 6,
   "metadata": {},
   "outputs": [],
   "source": [
    "nback=3\n",
    "task2 = NbackTask_PureEM(nback=nback,ntokens=ntokens,cdrift=.5,cdim=5,sedim=10)\n",
    "net2 = PureEM(nback,indim,stsize,mthresh=.95,seed=seed,debug=False)\n",
    "\n",
    "gen_rand_trials2 = lambda: task2.gen_ep_data(seqlen)\n",
    "trsc = run_model(net2,gen_rand_trials2,neps,training=True,verb=False)"
   ]
  },
  {
   "cell_type": "code",
   "execution_count": 7,
   "metadata": {},
   "outputs": [
    {
     "data": {
      "text/plain": [
       "(0.5, 1)"
      ]
     },
     "execution_count": 7,
     "metadata": {},
     "output_type": "execute_result"
    },
    {
     "data": {
      "image/png": "[encoded data removed]",
      "text/plain": [
       "<Figure size 432x288 with 1 Axes>"
      ]
     },
     "metadata": {},
     "output_type": "display_data"
    }
   ],
   "source": [
    "evsc = run_model(net,gen_rand_trials,500,training=False,verb=False)\n",
    "M = evsc.mean(0)\n",
    "evsc = run_model(net2,gen_rand_trials2,500,training=False,verb=False)\n",
    "M2 = evsc.mean(0)\n",
    "plt.plot(M,c='g')\n",
    "plt.plot(M2,c='r')\n",
    "plt.scatter(range(len(M)),M)\n",
    "plt.ylim(0.5,1)"
   ]
  },
  {
   "cell_type": "code",
   "execution_count": 13,
   "metadata": {},
   "outputs": [
    {
     "data": {
      "text/plain": [
       "(torch.Size([5, 10]), torch.Size([5, 10]))"
      ]
     },
     "execution_count": 13,
     "metadata": {},
     "output_type": "execute_result"
    }
   ],
   "source": [
    "\n",
    "task2.semat.shape = task.semat.shape"
   ]
  }
 ],
 "metadata": {
  "kernelspec": {
   "display_name": "Python 3",
   "language": "python",
   "name": "python3"
  },
  "language_info": {
   "codemirror_mode": {
    "name": "ipython",
    "version": 3
   },
   "file_extension": ".py",
   "mimetype": "text/x-python",
   "name": "python",
   "nbconvert_exporter": "python",
   "pygments_lexer": "ipython3",
   "version": "3.6.5"
  }
 },
 "nbformat": 4,
 "nbformat_minor": 2
}
