{
 "cells": [
  {
   "cell_type": "code",
   "execution_count": 1,
   "metadata": {},
   "outputs": [],
   "source": [
    "from datetime import datetime as dt\n",
    "from glob import glob as glob\n",
    "import torch as tr\n",
    "import numpy as np\n",
    "import itertools\n",
    "\n",
    "from matplotlib import pyplot as plt\n",
    "%matplotlib inline\n",
    "plt.rcParams.update({'font.size':22})\n",
    "\n",
    "%load_ext autoreload\n",
    "%reload_ext autoreload\n",
    "%autoreload 2\n"
   ]
  },
  {
   "cell_type": "code",
   "execution_count": 2,
   "metadata": {},
   "outputs": [],
   "source": [
    "class Net(tr.nn.Module):\n",
    "  def __init__(self,edim,hdim):\n",
    "    super().__init__()\n",
    "    nonlin = tr.nn.Tanh\n",
    "    self.in2hid = tr.nn.Linear(edim,hdim) \n",
    "    self.inact = nonlin()\n",
    "    self.hid2out = tr.nn.Linear(hdim,edim,bias=False) \n",
    "    \n",
    "  def forward(self,xbatch):\n",
    "    hid = self.in2hid(xbatch)\n",
    "    hid = self.inact(hid)\n",
    "    out = self.hid2out(hid)\n",
    "    return out"
   ]
  },
  {
   "cell_type": "code",
   "execution_count": 3,
   "metadata": {},
   "outputs": [],
   "source": [
    "edim = 7\n",
    "hdim = 7\n",
    "batch = 3\n",
    "net = Net(edim,hdim)\n",
    "lossop = tr.nn.MSELoss()\n",
    "optiop = tr.optim.Adam(net.parameters(), lr=0.001)"
   ]
  },
  {
   "cell_type": "code",
   "execution_count": 4,
   "metadata": {},
   "outputs": [],
   "source": [
    "nepochs=100000\n",
    "loss_arr = -np.zeros([nepochs])\n",
    "emat = tr.randn(batch,edim)\n",
    "ep_loss = 0\n",
    "for ep in range(nepochs):\n",
    "  # randomize emat\n",
    "  if ep_loss<.1:\n",
    "    emat = tr.randn(batch,edim)\n",
    "  # train loop\n",
    "  ep_loss = 0\n",
    "  for tstep in range(batch):\n",
    "    ## fp\n",
    "    xbatch = ytarget = emat[tstep]\n",
    "    yhat = net(xbatch)\n",
    "    ## bp\n",
    "    loss = lossop(yhat,ytarget)\n",
    "    # record\n",
    "    ep_loss += loss.item()\n",
    "    # optimize\n",
    "    optiop.zero_grad()\n",
    "    loss.backward()\n",
    "    optiop.step()\n",
    "  loss_arr[ep] = ep_loss\n",
    "  \n"
   ]
  },
  {
   "cell_type": "code",
   "execution_count": 5,
   "metadata": {},
   "outputs": [
    {
     "data": {
      "text/plain": [
       "(0, 5.473006683455424)"
      ]
     },
     "execution_count": 5,
     "metadata": {},
     "output_type": "execute_result"
    },
    {
     "data": {
      "image/png": "[encoded data removed]",
      "text/plain": [
       "<Figure size 720x288 with 1 Axes>"
      ]
     },
     "metadata": {},
     "output_type": "display_data"
    }
   ],
   "source": [
    "plt.figure(figsize=(10,4))\n",
    "plt.plot(loss_arr)\n",
    "plt.ylim(0)"
   ]
  }
 ],
 "metadata": {
  "kernelspec": {
   "display_name": "Python 3",
   "language": "python",
   "name": "python3"
  },
  "language_info": {
   "codemirror_mode": {
    "name": "ipython",
    "version": 3
   },
   "file_extension": ".py",
   "mimetype": "text/x-python",
   "name": "python",
   "nbconvert_exporter": "python",
   "pygments_lexer": "ipython3",
   "version": "3.6.5"
  }
 },
 "nbformat": 4,
 "nbformat_minor": 2
}
