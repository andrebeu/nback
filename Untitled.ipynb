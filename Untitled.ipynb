{
 "cells": [
  {
   "cell_type": "code",
   "execution_count": 104,
   "metadata": {},
   "outputs": [],
   "source": [
    "from datetime import datetime as dt\n",
    "from glob import glob as glob\n",
    "import torch as tr\n",
    "import numpy as np\n",
    "import itertools\n",
    "\n",
    "from Nback_tasks import NbackTask_PureEM\n",
    "from Nback_models import PureEM\n",
    "\n",
    "from matplotlib import pyplot as plt\n",
    "%matplotlib inline\n",
    "plt.rcParams.update({'font.size':22})\n",
    "\n",
    "%load_ext autoreload\n",
    "%reload_ext autoreload\n",
    "%autoreload 2\n"
   ]
  },
  {
   "cell_type": "code",
   "execution_count": 108,
   "metadata": {},
   "outputs": [],
   "source": [
    "cdim = 5\n",
    "sedim = 10\n",
    "stsize = 25\n",
    "nback = 1\n",
    "\n",
    "net = PureEM(indim=cdim+sedim,stsize=stsize)\n",
    "task = NbackTask_PureEM(cdim=cdim,sedim=sedim,nback=nback,ntokens=10)"
   ]
  },
  {
   "cell_type": "code",
   "execution_count": 209,
   "metadata": {},
   "outputs": [
    {
     "data": {
      "text/plain": [
       "0.6211111111111112"
      ]
     },
     "execution_count": 209,
     "metadata": {},
     "output_type": "execute_result"
    }
   ],
   "source": [
    "ntrials = 10\n",
    "nitr=100\n",
    "R = 0\n",
    "for it in range(nitr):\n",
    "  seq = task.genseq_balanced(ntrials,pr_nback=.6)\n",
    "  T,X,Y = task.process_seq(seq)\n",
    "  R+=Y[nback:].sum()/(ntrials-nback)\n",
    "R/nitr"
   ]
  }
 ],
 "metadata": {
  "kernelspec": {
   "display_name": "Python 3",
   "language": "python",
   "name": "python3"
  },
  "language_info": {
   "codemirror_mode": {
    "name": "ipython",
    "version": 3
   },
   "file_extension": ".py",
   "mimetype": "text/x-python",
   "name": "python",
   "nbconvert_exporter": "python",
   "pygments_lexer": "ipython3",
   "version": "3.6.5"
  }
 },
 "nbformat": 4,
 "nbformat_minor": 2
}
